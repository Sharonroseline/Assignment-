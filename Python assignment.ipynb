{
 "cells": [
  {
   "cell_type": "code",
   "execution_count": null,
   "id": "cd4b0d34",
   "metadata": {},
   "outputs": [],
   "source": [
    "#The problem Statement\n",
    "The program takes input a short abstract and outputs the following\n",
    "•prints each word in reverse.  \n",
    "•prints Top 2 occurring words in sorted order. The words that have occurred most of the time."
   ]
  },
  {
   "cell_type": "code",
   "execution_count": 1,
   "id": "94cebb43",
   "metadata": {},
   "outputs": [
    {
     "name": "stdout",
     "output_type": "stream",
     "text": [
      "Enter string: This declaration represents a political commitment among declaration partners to advance a positive vision for the Internet in this era of a united europe\n",
      "\n",
      "Europe united a of era this in internet the for vision positive a advance to partners declaration among commitment political a represents declaration this\n",
      "\n"
     ]
    }
   ],
   "source": [
    "#1\n",
    "string = input(\"Enter string: \")\n",
    "l = []\n",
    "s = string.split()[::-1]\n",
    "for i in s:\n",
    "    l.append(i)\n",
    "    a=\" \".join(l)\n",
    "a=a.capitalize()\n",
    "print(\"\\n%s\\n\"%a)\n"
   ]
  },
  {
   "cell_type": "code",
   "execution_count": 4,
   "id": "07394480",
   "metadata": {},
   "outputs": [
    {
     "name": "stdout",
     "output_type": "stream",
     "text": [
      "This declaration represents a political commitment among declaration partners to advance a positive vision for the Internet in this era of a united europe\n",
      "a : 3 times\n",
      "declaration : 2 times\n"
     ]
    }
   ],
   "source": [
    "#2\n",
    "str=input()\n",
    "word_counter = {}\n",
    "for word in str.split(\" \"):\n",
    "    if len(word) > 0 and word != '\\r\\n':\n",
    "        if word not in word_counter: \n",
    "            word_counter[word] = 1\n",
    "        else:\n",
    "            word_counter[word] += 1 \n",
    "for i,word in enumerate(sorted(word_counter,key=word_counter.get,reverse=True)[:2]):\n",
    "    print (\"%s : %s times\"%(word,word_counter[word]))"
   ]
  },
  {
   "cell_type": "code",
   "execution_count": null,
   "id": "e74a6d9a",
   "metadata": {},
   "outputs": [],
   "source": []
  }
 ],
 "metadata": {
  "kernelspec": {
   "display_name": "Python 3 (ipykernel)",
   "language": "python",
   "name": "python3"
  },
  "language_info": {
   "codemirror_mode": {
    "name": "ipython",
    "version": 3
   },
   "file_extension": ".py",
   "mimetype": "text/x-python",
   "name": "python",
   "nbconvert_exporter": "python",
   "pygments_lexer": "ipython3",
   "version": "3.9.12"
  }
 },
 "nbformat": 4,
 "nbformat_minor": 5
}
